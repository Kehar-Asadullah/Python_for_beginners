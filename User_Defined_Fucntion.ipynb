{
 "cells": [
  {
   "cell_type": "markdown",
   "id": "589eb61d",
   "metadata": {},
   "source": [
    "# Functions:\n",
    " - Functions are self-contained subprograms that can be repeatedly invoked by function-names\n",
    " \n",
    " - Built-in functions\n",
    " - User defined functions"
   ]
  },
  {
   "cell_type": "code",
   "execution_count": 2,
   "id": "aec7f3fe",
   "metadata": {},
   "outputs": [
    {
     "name": "stdout",
     "output_type": "stream",
     "text": [
      "Hello!\n",
      "None\n"
     ]
    }
   ],
   "source": [
    "# user defined functions\n",
    "def print_mesg():\n",
    "    print(\"Hello!\")\n",
    "    \n",
    "print_mesg() # prints Hello\n",
    "print(print_mesg())#print None,check difference\n"
   ]
  },
  {
   "cell_type": "code",
   "execution_count": 5,
   "id": "42e6d1c1",
   "metadata": {},
   "outputs": [
    {
     "name": "stdout",
     "output_type": "stream",
     "text": [
      "Bonjour\n",
      "Bonjour\n",
      "None\n"
     ]
    }
   ],
   "source": [
    "# Parameterized function\n",
    "def print_mesg(str):\n",
    "    print(str)\n",
    "\n",
    "m = \"Bonjour\"\n",
    "print_mesg( m ) # prints passed message\n",
    "\n",
    "print(print_mesg(m)) # prints passed message \n",
    "                     # and None, check\n"
   ]
  },
  {
   "cell_type": "code",
   "execution_count": 7,
   "id": "3e828ba4",
   "metadata": {},
   "outputs": [
    {
     "name": "stdout",
     "output_type": "stream",
     "text": [
      "Enter your name: ali\n",
      "Enter your age: 4\n",
      "ali 4\n"
     ]
    }
   ],
   "source": [
    "def print_bio(n,a):\n",
    "    name = input(\"Enter your name: \")\n",
    "    age = int(input(\"Enter your age: \"))\n",
    "    print(name, age)\n",
    "print_bio()"
   ]
  },
  {
   "cell_type": "markdown",
   "id": "c4b12ae0",
   "metadata": {},
   "source": [
    "# setting default value in function parameters:\n",
    " - we can specify a default value in function parameters and the default value will be effective whenever the argument is not supplied while function call."
   ]
  },
  {
   "cell_type": "code",
   "execution_count": 1,
   "id": "498561b5",
   "metadata": {},
   "outputs": [
    {
     "data": {
      "text/plain": [
       "6"
      ]
     },
     "execution_count": 1,
     "metadata": {},
     "output_type": "execute_result"
    }
   ],
   "source": [
    "def my_function (par1, par2=1):\n",
    "    c = par1 * par2\n",
    "    return c\n",
    "\n",
    "my_function (2,3)\n",
    "\n",
    "#my_function (2)\n"
   ]
  },
  {
   "cell_type": "code",
   "execution_count": 2,
   "id": "58846c77",
   "metadata": {},
   "outputs": [
    {
     "name": "stdout",
     "output_type": "stream",
     "text": [
      "Ruby\n",
      "C++\n",
      "v\n",
      "J\n"
     ]
    }
   ],
   "source": [
    "str = ['Python', 'Ruby', 'Java', 'C++']\n",
    "print(max(str))\n",
    "print(min(str))\n",
    "\n",
    "print(max(str[2])) # will check java for max\n",
    "print(min(str[2])) #will check java for min"
   ]
  },
  {
   "cell_type": "code",
   "execution_count": null,
   "id": "09edec65",
   "metadata": {},
   "outputs": [],
   "source": []
  }
 ],
 "metadata": {
  "kernelspec": {
   "display_name": "Python 3 (ipykernel)",
   "language": "python",
   "name": "python3"
  },
  "language_info": {
   "codemirror_mode": {
    "name": "ipython",
    "version": 3
   },
   "file_extension": ".py",
   "mimetype": "text/x-python",
   "name": "python",
   "nbconvert_exporter": "python",
   "pygments_lexer": "ipython3",
   "version": "3.9.13"
  }
 },
 "nbformat": 4,
 "nbformat_minor": 5
}
