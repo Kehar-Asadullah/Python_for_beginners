{
 "cells": [
  {
   "cell_type": "markdown",
   "metadata": {},
   "source": [
    "# Conditions:\n",
    "\n",
    " - Conditions are used to control the flow of program.\n",
    " - keywords:\n",
    "  - if\n",
    "    elif\n",
    "    else\n"
   ]
  },
  {
   "cell_type": "code",
   "execution_count": 4,
   "metadata": {},
   "outputs": [
    {
     "name": "stdout",
     "output_type": "stream",
     "text": [
      " a is greater than b\n"
     ]
    }
   ],
   "source": [
    "a = 15\n",
    "b = 10\n",
    "#print(a<b)\n",
    "if a<b: # check the indentation\n",
    "    print(\" a is less than b\")\n",
    "else:\n",
    "    print(\" a is greater than b\")"
   ]
  },
  {
   "cell_type": "code",
   "execution_count": 7,
   "metadata": {},
   "outputs": [
    {
     "name": "stdout",
     "output_type": "stream",
     "text": [
      " a is greater than b\n"
     ]
    }
   ],
   "source": [
    "a = 15\n",
    "b = 10\n",
    "#print(a<b)\n",
    "if a<b:\n",
    "    print(\"a is less than b\")\n",
    "elif b<a:\n",
    "    print(\"a is greater than b\")\n",
    "else:\n",
    "    print(\"a is equal to b\")\n"
   ]
  },
  {
   "cell_type": "code",
   "execution_count": null,
   "metadata": {},
   "outputs": [],
   "source": [
    "a = 15\n",
    "b = 10\n",
    "\n",
    "if a<b: # check the indentation\n",
    "    print(\" a is less than b\")\n",
    "    print(\"Bye Bye!\") # check the effect of indentation"
   ]
  },
  {
   "cell_type": "code",
   "execution_count": 12,
   "metadata": {},
   "outputs": [
    {
     "name": "stdout",
     "output_type": "stream",
     "text": [
      "Enter marks: 76\n",
      "Your grade is  B\n"
     ]
    },
    {
     "data": {
      "text/plain": [
       "str"
      ]
     },
     "execution_count": 12,
     "metadata": {},
     "output_type": "execute_result"
    }
   ],
   "source": [
    "# Grading\n",
    "marks = int(input(\"Enter marks: \"))\n",
    "if marks >= 87:\n",
    "    grade = 'A'\n",
    "elif marks >= 72:\n",
    "    grade = 'B'\n",
    "elif marks >= 60:\n",
    "    grade = 'C'\n",
    "else:\n",
    "    grade = 'FAIL'\n",
    "print(\"Your grade is \", grade)\n",
    "type(grade)"
   ]
  },
  {
   "cell_type": "code",
   "execution_count": 3,
   "metadata": {},
   "outputs": [
    {
     "name": "stdout",
     "output_type": "stream",
     "text": [
      "Enter the first digit:5\n",
      "Enter the second digit9\n",
      "Choose an operatior of the following: \n",
      "+ \n",
      "- \n",
      "* \n",
      "/ \n",
      "+\n",
      "your solution is  14\n"
     ]
    }
   ],
   "source": [
    "#Program for a basic calculator\n",
    "a = int(input(\"Enter the first digit:\"))\n",
    "b = int(input(\"Enter the second digit\"))\n",
    "c = input(\"Choose an operatior of the following: \\n+ \\n- \\n* \\n/ \\n\")\n",
    "\n",
    "if c==\"+\":\n",
    "    x = (a+b)\n",
    "elif c== \"-\":\n",
    "    x = (a-b)\n",
    "elif c== \"*\":\n",
    "    x = (a*b)\n",
    "elif c== \"/\":\n",
    "    x = (a/b)\n",
    "else:\n",
    "    print(\"Invalid operator\")\n",
    "\n",
    "print (\"your solution is \", x)\n",
    "\n"
   ]
  },
  {
   "cell_type": "markdown",
   "metadata": {},
   "source": [
    "# Short-hand if\n",
    " if you have only one statement in the body of if, you can put it on same line as if statement"
   ]
  },
  {
   "cell_type": "code",
   "execution_count": 7,
   "metadata": {},
   "outputs": [
    {
     "name": "stdout",
     "output_type": "stream",
     "text": [
      "a is greater than b\n"
     ]
    }
   ],
   "source": [
    "a,b = 9, 8\n",
    "if a>b:print(\"a is greater than b\")"
   ]
  },
  {
   "cell_type": "markdown",
   "metadata": {},
   "source": [
    "# Short-hand if-else\n",
    "if you have one statement to execute, one for if and one for else, then your can put it all one the same line"
   ]
  },
  {
   "cell_type": "code",
   "execution_count": 8,
   "metadata": {},
   "outputs": [
    {
     "name": "stdout",
     "output_type": "stream",
     "text": [
      "b is greater\n"
     ]
    }
   ],
   "source": [
    "a , b = 3, 7\n",
    "print(\"a is greater\") if a>b else print(\"b is greater\")"
   ]
  },
  {
   "cell_type": "markdown",
   "metadata": {},
   "source": [
    " - else instead of elif"
   ]
  },
  {
   "cell_type": "code",
   "execution_count": 11,
   "metadata": {},
   "outputs": [
    {
     "name": "stdout",
     "output_type": "stream",
     "text": [
      "a is greater\n"
     ]
    }
   ],
   "source": [
    "a  = 10\n",
    "b = 5\n",
    "print(\"a is greater\")if a>b else print(\"b is greater\") if b>a else print(\" bothe are equal\")"
   ]
  },
  {
   "cell_type": "markdown",
   "metadata": {},
   "source": [
    "# Logical Operators in Conditions\n",
    "using and, or, not"
   ]
  },
  {
   "cell_type": "code",
   "execution_count": 12,
   "metadata": {},
   "outputs": [
    {
     "name": "stdout",
     "output_type": "stream",
     "text": [
      "c is greater to all\n",
      "\n"
     ]
    }
   ],
   "source": [
    "a = 50\n",
    "b = 100\n",
    "c = 150\n",
    "if a>b and a>c:\n",
    "    print(\"a is greater to all\")\n",
    "elif b>a and b>c:\n",
    "    print(\"b is greater to all\")\n",
    "elif c>a and c>b:\n",
    "    print(\"c is greater to all\")\n",
    "    \n",
    "x = True\n",
    "print (\"\")"
   ]
  },
  {
   "cell_type": "code",
   "execution_count": 13,
   "metadata": {},
   "outputs": [
    {
     "name": "stdout",
     "output_type": "stream",
     "text": [
      "x is True and not x is False\n"
     ]
    }
   ],
   "source": [
    "# not logical operator\n",
    "x = True\n",
    "y = not x\n",
    "print(f\"x is {x} and not x is {y}\")"
   ]
  },
  {
   "cell_type": "code",
   "execution_count": null,
   "metadata": {},
   "outputs": [],
   "source": []
  }
 ],
 "metadata": {
  "kernelspec": {
   "display_name": "Python 3",
   "language": "python",
   "name": "python3"
  },
  "language_info": {
   "codemirror_mode": {
    "name": "ipython",
    "version": 3
   },
   "file_extension": ".py",
   "mimetype": "text/x-python",
   "name": "python",
   "nbconvert_exporter": "python",
   "pygments_lexer": "ipython3",
   "version": "3.7.3"
  }
 },
 "nbformat": 4,
 "nbformat_minor": 2
}
