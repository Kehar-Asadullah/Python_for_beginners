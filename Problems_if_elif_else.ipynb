{
 "cells": [
  {
   "cell_type": "markdown",
   "metadata": {},
   "source": [
    " - Accept three sides of a triangle and check if the entered values are    of an equilateral, issoceles or scalene triangle."
   ]
  },
  {
   "cell_type": "code",
   "execution_count": 3,
   "metadata": {},
   "outputs": [
    {
     "name": "stdout",
     "output_type": "stream",
     "text": [
      "first side: 4\n",
      "second side: 4\n",
      "third side: 4\n",
      "Equilateral trinangle\n"
     ]
    }
   ],
   "source": [
    "a = float(input(\"first side: \"))\n",
    "b = float(input(\"second side: \"))\n",
    "c = float(input(\"third side: \"))\n",
    "if a == b and b==c:\n",
    "    print(\"Equilateral trinangle\")\n",
    "elif a==b or b==c or a==c:\n",
    "    print(\"Issoceles triangle\")\n",
    "else:\n",
    "    print(\"scalene Tringangle\")"
   ]
  },
  {
   "cell_type": "markdown",
   "metadata": {},
   "source": [
    " - Write a program to check if the entered number is divisible by both    2 and 3"
   ]
  },
  {
   "cell_type": "code",
   "execution_count": 2,
   "metadata": {},
   "outputs": [
    {
     "name": "stdout",
     "output_type": "stream",
     "text": [
      "Enter the number: 6\n",
      "The entered number is divisible by both 2 and 3\n"
     ]
    }
   ],
   "source": [
    "num = int(input(\"Enter the number: \"))\n",
    "if num%2==0 and num%3==0: #if put 6 then it could be done precisely\n",
    "    print(\"The entered number is divisible by both 2 and 3\")\n"
   ]
  },
  {
   "cell_type": "markdown",
   "metadata": {},
   "source": [
    " - Accept the age of 4 people and display the youngest one"
   ]
  },
  {
   "cell_type": "code",
   "execution_count": null,
   "metadata": {},
   "outputs": [],
   "source": [
    "a = int(input(\"Age1:\"))\n",
    "b = int(input(\"Age2:\"))\n",
    "c = int(input(\"Age3:\"))\n",
    "d = int(input(\"Age4:\"))\n",
    "youngest = min(a,b,c,d)\n",
    "print(\"The youngest of four is\", youngest)"
   ]
  },
  {
   "cell_type": "code",
   "execution_count": null,
   "metadata": {},
   "outputs": [],
   "source": []
  },
  {
   "cell_type": "code",
   "execution_count": null,
   "metadata": {},
   "outputs": [],
   "source": []
  },
  {
   "cell_type": "code",
   "execution_count": null,
   "metadata": {},
   "outputs": [],
   "source": []
  },
  {
   "cell_type": "code",
   "execution_count": null,
   "metadata": {},
   "outputs": [],
   "source": []
  }
 ],
 "metadata": {
  "kernelspec": {
   "display_name": "Python 3",
   "language": "python",
   "name": "python3"
  },
  "language_info": {
   "codemirror_mode": {
    "name": "ipython",
    "version": 3
   },
   "file_extension": ".py",
   "mimetype": "text/x-python",
   "name": "python",
   "nbconvert_exporter": "python",
   "pygments_lexer": "ipython3",
   "version": "3.7.3"
  }
 },
 "nbformat": 4,
 "nbformat_minor": 2
}
