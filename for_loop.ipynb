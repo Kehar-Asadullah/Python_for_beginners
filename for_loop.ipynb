{
 "cells": [
  {
   "cell_type": "markdown",
   "id": "14ddfeac",
   "metadata": {},
   "source": [
    "# for loop\n",
    " - for loop is used to iterate over a sequence. seqeunce can be: string, list, tuple, set or dictionary.\n",
    " \n",
    " - it doesnot require an index variable beforehead.\n",
    "   "
   ]
  },
  {
   "cell_type": "code",
   "execution_count": 10,
   "id": "dc0ade3c",
   "metadata": {},
   "outputs": [
    {
     "name": "stdout",
     "output_type": "stream",
     "text": [
      "L\n",
      "o\n",
      "o\n",
      "k\n",
      " \n",
      "b\n",
      "e\n",
      "f\n",
      "o\n",
      "r\n",
      "e\n",
      " \n",
      "y\n",
      "o\n",
      "u\n",
      " \n",
      "l\n",
      "e\n",
      "a\n",
      "p\n",
      "!\n"
     ]
    }
   ],
   "source": [
    "a_string = \"Look before you leap!\"\n",
    "for x in a_string:\n",
    "    print(x)"
   ]
  },
  {
   "cell_type": "code",
   "execution_count": 11,
   "id": "1e0e6757",
   "metadata": {},
   "outputs": [
    {
     "name": "stdout",
     "output_type": "stream",
     "text": [
      "4\n",
      "3.14\n",
      "True\n",
      "jungle\n"
     ]
    }
   ],
   "source": [
    "a_list = [4, 3.14, True, \"jungle\"]\n",
    "for y in a_list: #one can check it in visualizer\n",
    "    print(y)"
   ]
  },
  {
   "cell_type": "code",
   "execution_count": 12,
   "id": "3db63efe",
   "metadata": {},
   "outputs": [
    {
     "name": "stdout",
     "output_type": "stream",
     "text": [
      "python\n",
      "Java\n",
      "C++\n"
     ]
    }
   ],
   "source": [
    "a_tuple = (\"python\", 'Java', 'C++')\n",
    "for z in a_tuple:\n",
    "    print(z)"
   ]
  },
  {
   "cell_type": "markdown",
   "id": "ac70bb4c",
   "metadata": {},
   "source": [
    "# break statement\n",
    " - break statement is used to break the iterations in loop before it looped through all items"
   ]
  },
  {
   "cell_type": "code",
   "execution_count": null,
   "id": "0cbed0ef",
   "metadata": {},
   "outputs": [],
   "source": []
  },
  {
   "cell_type": "code",
   "execution_count": 5,
   "id": "5e730dd1",
   "metadata": {},
   "outputs": [
    {
     "name": "stdout",
     "output_type": "stream",
     "text": [
      "python\n",
      "Java\n",
      "Ruby\n"
     ]
    }
   ],
   "source": [
    "a_tuple = (\"python\", 'Java', 'C++', 'Ruby')\n",
    "for z in a_tuple:\n",
    "    if z == 'C++':\n",
    "        break # check the use of break   \n",
    "        #continue\n",
    "    print(z)"
   ]
  },
  {
   "cell_type": "markdown",
   "id": "aafefc0e",
   "metadata": {},
   "source": [
    "# range() function in for loop\n",
    " - range() function is also used for iteration\n",
    " - To loop through a set of code, a specified number of times,we can use a range() function.\n",
    " - The range() function returns numbers, starting from 0 (by default), incremented by 1 (by default) and ends at (one less) specified number. "
   ]
  },
  {
   "cell_type": "code",
   "execution_count": 6,
   "id": "796547b2",
   "metadata": {},
   "outputs": [
    {
     "name": "stdout",
     "output_type": "stream",
     "text": [
      "0\n",
      "1\n",
      "2\n",
      "3\n",
      "4\n",
      "5\n"
     ]
    }
   ],
   "source": [
    "for i in range(6):\n",
    "    print(i)"
   ]
  },
  {
   "cell_type": "code",
   "execution_count": null,
   "id": "2239a98d",
   "metadata": {},
   "outputs": [],
   "source": []
  },
  {
   "cell_type": "code",
   "execution_count": 7,
   "id": "17989264",
   "metadata": {},
   "outputs": [
    {
     "name": "stdout",
     "output_type": "stream",
     "text": [
      "1\n",
      "2\n",
      "3\n",
      "4\n",
      "5\n"
     ]
    }
   ],
   "source": [
    "#using starting, ending. use of , instead :\n",
    "for i in range(1,6):\n",
    "    print(i)"
   ]
  },
  {
   "cell_type": "code",
   "execution_count": null,
   "id": "4a534f9a",
   "metadata": {},
   "outputs": [],
   "source": []
  },
  {
   "cell_type": "code",
   "execution_count": 9,
   "id": "98ad5b8e",
   "metadata": {},
   "outputs": [
    {
     "name": "stdout",
     "output_type": "stream",
     "text": [
      "1\n",
      "3\n",
      "5\n"
     ]
    }
   ],
   "source": [
    "#using starting, ending and steps. use of , instead :\n",
    "for i in range(1,6, 2): #check the step\n",
    "    print(i)"
   ]
  },
  {
   "cell_type": "code",
   "execution_count": null,
   "id": "b070221c",
   "metadata": {},
   "outputs": [],
   "source": []
  },
  {
   "cell_type": "code",
   "execution_count": 10,
   "id": "b9ea2064",
   "metadata": {},
   "outputs": [
    {
     "name": "stdout",
     "output_type": "stream",
     "text": [
      "10\n",
      "9\n",
      "8\n",
      "7\n",
      "6\n"
     ]
    }
   ],
   "source": [
    "#using starting, ending and steps. use of , instead :\n",
    "for i in range(10,5, -1): #check the step is negative\n",
    "    print(i)"
   ]
  },
  {
   "cell_type": "code",
   "execution_count": 12,
   "id": "cc9af9d6",
   "metadata": {},
   "outputs": [
    {
     "name": "stdout",
     "output_type": "stream",
     "text": [
      "0\n",
      "1\n",
      "2\n",
      "3\n"
     ]
    }
   ],
   "source": [
    "a_list = [4, 3.14, True, \"jungle\"]\n",
    "for i in range(len(a_list)):\n",
    "    print(i)"
   ]
  },
  {
   "cell_type": "code",
   "execution_count": 15,
   "id": "9a6b9b46",
   "metadata": {},
   "outputs": [
    {
     "name": "stdout",
     "output_type": "stream",
     "text": [
      "0\n",
      "1\n",
      "2\n",
      "3\n"
     ]
    }
   ],
   "source": [
    "a_list = [4, 3.14, True, \"jungle\"]\n",
    "for i in range(len(a_list)):\n",
    "    print(i)\n"
   ]
  },
  {
   "cell_type": "code",
   "execution_count": 17,
   "id": "df4320cc",
   "metadata": {},
   "outputs": [
    {
     "name": "stdout",
     "output_type": "stream",
     "text": [
      "True\n",
      "jungle\n"
     ]
    }
   ],
   "source": [
    "# what if we want to iterate a portion of list\n",
    "a_list = [4, 3.14, True, \"jungle\"]\n",
    "for i in range(2, len(a_list)):\n",
    "    print(a_list[i])\n"
   ]
  },
  {
   "cell_type": "markdown",
   "id": "c0838bc2",
   "metadata": {},
   "source": [
    "# else in for loop\n",
    " - the else keyword in a for loop specifies a block of code to be executed when for loop exi\n"
   ]
  },
  {
   "cell_type": "code",
   "execution_count": 1,
   "id": "1afed9b8",
   "metadata": {},
   "outputs": [
    {
     "name": "stdout",
     "output_type": "stream",
     "text": [
      "0\n",
      "1\n",
      "2\n",
      "3\n",
      "4\n",
      "5\n",
      "Out of loop now!\n"
     ]
    }
   ],
   "source": [
    "for i in range (6):\n",
    "    print(i)\n",
    "else:\n",
    "    print(\"Out of loop now!\")"
   ]
  },
  {
   "cell_type": "markdown",
   "id": "2afaaf75",
   "metadata": {},
   "source": [
    "# pass statement in for loop\n",
    " - to avoid an error and doing nothing in some iteration, we use pass statment in for loop too."
   ]
  },
  {
   "cell_type": "code",
   "execution_count": 2,
   "id": "2f103cb1",
   "metadata": {},
   "outputs": [
    {
     "name": "stdout",
     "output_type": "stream",
     "text": [
      "Out of loop now!\n"
     ]
    }
   ],
   "source": [
    "for x in range(6): #if do not mention statement in body,\n",
    "    pass           # then error may occur\n",
    "else:\n",
    "    print('Out of loop now!')"
   ]
  },
  {
   "cell_type": "markdown",
   "id": "dee0f46f",
   "metadata": {},
   "source": [
    "# Nested for loop\n",
    " - Nested for loop: for loop within for loop (outer)\n",
    " - In nested loop, for each iteration of outer loop, the inner loop may execute its full iterations."
   ]
  },
  {
   "cell_type": "code",
   "execution_count": 7,
   "id": "e7613603",
   "metadata": {},
   "outputs": [
    {
     "name": "stdout",
     "output_type": "stream",
     "text": [
      "0 G\n",
      "0 a\n",
      "0 m\n",
      "0 e\n",
      "1 G\n",
      "1 a\n",
      "1 m\n",
      "1 e\n",
      "2 G\n",
      "2 a\n",
      "2 m\n",
      "2 e\n",
      "3 G\n",
      "3 a\n",
      "3 m\n",
      "3 e\n",
      "4 G\n",
      "4 a\n",
      "4 m\n",
      "4 e\n"
     ]
    }
   ],
   "source": [
    "for p in range(5):\n",
    "    for q in \"Game\":\n",
    "        print(p,q)\n",
    "       "
   ]
  },
  {
   "cell_type": "code",
   "execution_count": 9,
   "id": "49d31695",
   "metadata": {},
   "outputs": [
    {
     "name": "stdout",
     "output_type": "stream",
     "text": [
      "Red Apple\n",
      "Red Banana\n",
      "Red Cherry\n",
      "Green Apple\n",
      "Green Banana\n",
      "Green Cherry\n",
      "Yellow Apple\n",
      "Yellow Banana\n",
      "Yellow Cherry\n"
     ]
    }
   ],
   "source": [
    "colors = ['Red', 'Green', 'Yellow']\n",
    "fruits = [\"Apple\", \"Banana\", \"Cherry\"]\n",
    "\n",
    "for i in colors:\n",
    "    for j in fruits:\n",
    "        print(i, j)\n"
   ]
  },
  {
   "cell_type": "code",
   "execution_count": 1,
   "id": "87ea196a",
   "metadata": {},
   "outputs": [
    {
     "name": "stdout",
     "output_type": "stream",
     "text": [
      "The student acquired 394 marks \n"
     ]
    }
   ],
   "source": [
    "#This is the list of marks obtained by some student in a semester; calculate total marks.\n",
    "marks = [72, 80, 85, 70, 87]\n",
    "total = 0\n",
    "for x in marks:\n",
    "    total = total + x\n",
    "else:\n",
    "    print(f\"The student acquired {total} marks \")"
   ]
  },
  {
   "cell_type": "code",
   "execution_count": 9,
   "id": "1f5e6254",
   "metadata": {},
   "outputs": [
    {
     "name": "stdout",
     "output_type": "stream",
     "text": [
      "['Apple', 'Cherry', 'Date']\n"
     ]
    }
   ],
   "source": [
    "#iterate through list and print the item \n",
    "#which satisfies condition\n",
    "fruits=[\"Apple\", \"Banana\", \"Cherry\", \"Date\"]\n",
    "new_list = []\n",
    "for x in fruits:\n",
    "    if 'e' in x:\n",
    "        #print(x)\n",
    "        new_list.append(x)\n",
    "        \n",
    "print(new_list)\n"
   ]
  },
  {
   "cell_type": "code",
   "execution_count": 10,
   "id": "4cdbf6d0",
   "metadata": {},
   "outputs": [
    {
     "name": "stdout",
     "output_type": "stream",
     "text": [
      "Enter number for table: 7\n",
      "7 X 1 = 7\n",
      "7 X 2 = 14\n",
      "7 X 3 = 21\n",
      "7 X 4 = 28\n",
      "7 X 5 = 35\n",
      "7 X 6 = 42\n",
      "7 X 7 = 49\n",
      "7 X 8 = 56\n",
      "7 X 9 = 63\n",
      "7 X 10 = 70\n"
     ]
    }
   ],
   "source": [
    "#table using for loop, taking input from user\n",
    "x = int(input(\"Enter number for table: \"))\n",
    "for i in range(1,11):\n",
    "    print(f\"{x} X {i} = {x*i}\")"
   ]
  },
  {
   "cell_type": "code",
   "execution_count": null,
   "id": "2aaa8cb4",
   "metadata": {},
   "outputs": [],
   "source": []
  },
  {
   "cell_type": "code",
   "execution_count": null,
   "id": "3e282d2c",
   "metadata": {},
   "outputs": [],
   "source": []
  },
  {
   "cell_type": "markdown",
   "id": "9aaa9725",
   "metadata": {},
   "source": [
    "# List comprehension\n",
    " - a shorter syntax to create a new list based on previous list.\n",
    " syntax:\n",
    " - newList = [expression for item in iterable if condition == True]"
   ]
  },
  {
   "cell_type": "code",
   "execution_count": 12,
   "id": "e3ae5e82",
   "metadata": {},
   "outputs": [
    {
     "data": {
      "text/plain": [
       "['Apple', 'Cherry', 'Date']"
      ]
     },
     "execution_count": 12,
     "metadata": {},
     "output_type": "execute_result"
    }
   ],
   "source": [
    "#short hand: list-comprehension, check differnce\n",
    "fruits=[\"Apple\", \"Banana\", \"Cherry\", \"Date\"]\n",
    "new_list = [i for i in fruits if 'e' in i]\n",
    "new_list"
   ]
  },
  {
   "cell_type": "code",
   "execution_count": 16,
   "id": "553d4e3f",
   "metadata": {},
   "outputs": [
    {
     "name": "stdout",
     "output_type": "stream",
     "text": [
      "[2, 4, 6, 8, 10]\n"
     ]
    }
   ],
   "source": [
    "even = [x for x in range(1,11) if x%2==0]\n",
    "print(even) "
   ]
  },
  {
   "cell_type": "code",
   "execution_count": 17,
   "id": "3ba43ff2",
   "metadata": {},
   "outputs": [
    {
     "name": "stdout",
     "output_type": "stream",
     "text": [
      "['R', 'u', 'm', 'p', 'l', 'e', 's', 't', 'i', 'l', 't', 's', 'k', 'i', 'n']\n"
     ]
    }
   ],
   "source": [
    "message = \"Rumplestiltskin\"\n",
    "#convert each character of message in list item\n",
    "L1 = [x for x in message]\n",
    "print(L1)"
   ]
  },
  {
   "cell_type": "markdown",
   "id": "2174a73d",
   "metadata": {},
   "source": [
    "# Covered topics:\n",
    " - loop through a string\n",
    " - loop through list\n",
    " - list comprehension\n",
    " - loop tuples"
   ]
  },
  {
   "cell_type": "code",
   "execution_count": 3,
   "id": "6a26e471",
   "metadata": {},
   "outputs": [
    {
     "name": "stdout",
     "output_type": "stream",
     "text": [
      "g\n",
      "o\n",
      "w\n",
      "e\n",
      "n\n",
      "t\n",
      "g\n",
      "o\n",
      "n\n",
      "e\n"
     ]
    }
   ],
   "source": [
    "# loop through string\n",
    "a_string = \"go went gone\"\n",
    "for x in a_string: #break for separting words       \n",
    "    if x == ' ':   #continue for omitting space\n",
    "        continue\n",
    "    print(x)"
   ]
  },
  {
   "cell_type": "code",
   "execution_count": 6,
   "id": "d4c3799e",
   "metadata": {},
   "outputs": [
    {
     "name": "stdout",
     "output_type": "stream",
     "text": [
      "5\n",
      "2\n",
      "7\n",
      "10\n",
      "25\n"
     ]
    }
   ],
   "source": [
    "# loop through a list\n",
    "a_list = [5, 2, 7, 10, 25]\n",
    "i = 0\n",
    "while i<len(a_list):\n",
    "    print(a_list[i])\n",
    "    i+=1\n"
   ]
  },
  {
   "cell_type": "code",
   "execution_count": 9,
   "id": "b1626f3f",
   "metadata": {},
   "outputs": [
    {
     "name": "stdout",
     "output_type": "stream",
     "text": [
      "[4, 17, 'A', 'beep', False]\n"
     ]
    }
   ],
   "source": [
    "# list comprehension\n",
    "a_list = [4, 17, \"A\", 'beep', False]\n",
    "new_list = [x for x in a_list]\n",
    "print(new_list)"
   ]
  },
  {
   "cell_type": "code",
   "execution_count": 11,
   "id": "c65a1cfc",
   "metadata": {},
   "outputs": [
    {
     "name": "stdout",
     "output_type": "stream",
     "text": [
      "4\n",
      "5\n",
      "10\n",
      "25\n"
     ]
    }
   ],
   "source": [
    "# loop through a tuple\n",
    "a_tuple = (4,5,10, 25)\n",
    "for x in a_tuple:\n",
    "    print(x)"
   ]
  },
  {
   "cell_type": "code",
   "execution_count": null,
   "id": "e74a2e3a",
   "metadata": {},
   "outputs": [],
   "source": []
  },
  {
   "cell_type": "code",
   "execution_count": null,
   "id": "f47cab78",
   "metadata": {},
   "outputs": [],
   "source": []
  }
 ],
 "metadata": {
  "kernelspec": {
   "display_name": "Python 3 (ipykernel)",
   "language": "python",
   "name": "python3"
  },
  "language_info": {
   "codemirror_mode": {
    "name": "ipython",
    "version": 3
   },
   "file_extension": ".py",
   "mimetype": "text/x-python",
   "name": "python",
   "nbconvert_exporter": "python",
   "pygments_lexer": "ipython3",
   "version": "3.9.13"
  }
 },
 "nbformat": 4,
 "nbformat_minor": 5
}
