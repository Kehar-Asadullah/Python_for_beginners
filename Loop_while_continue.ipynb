{
 "cells": [
  {
   "cell_type": "code",
   "execution_count": 2,
   "id": "5959164c",
   "metadata": {},
   "outputs": [
    {
     "name": "stdout",
     "output_type": "stream",
     "text": [
      "1\n",
      "2\n",
      "3\n"
     ]
    }
   ],
   "source": [
    "# break statement\n",
    "i=1 \n",
    "while i<6:\n",
    "    print(i)\n",
    "    if i==3:\n",
    "        break\n",
    "    i+=1"
   ]
  },
  {
   "cell_type": "markdown",
   "id": "0eab674a",
   "metadata": {},
   "source": [
    "# continue statement \n",
    " - if the condition satisfies, continue result in continuing the      next iteration.\n"
   ]
  },
  {
   "cell_type": "code",
   "execution_count": 5,
   "id": "86f34724",
   "metadata": {},
   "outputs": [
    {
     "name": "stdout",
     "output_type": "stream",
     "text": [
      "1\n",
      "2\n",
      "4\n",
      "5\n",
      "6\n"
     ]
    }
   ],
   "source": [
    "i = 0\n",
    "while i<6:\n",
    "    i+=1\n",
    "    if i == 3:\n",
    "        continue\n",
    "    print(i)\n",
    "    "
   ]
  },
  {
   "cell_type": "code",
   "execution_count": 7,
   "id": "2814267f",
   "metadata": {},
   "outputs": [
    {
     "name": "stdout",
     "output_type": "stream",
     "text": [
      "Enter number for table: 5\n",
      "5 X 1 = 5\n",
      "5 X 2 = 10\n",
      "5 X 3 = 15\n",
      "5 X 4 = 20\n",
      "5 X 5 = 25\n",
      "5 X 6 = 30\n",
      "5 X 7 = 35\n",
      "5 X 8 = 40\n",
      "5 X 9 = 45\n",
      "5 X 10 = 50\n"
     ]
    }
   ],
   "source": [
    "# table using while loop\n",
    "x = int(input(\"Enter number for table: \"))\n",
    "i=1\n",
    "while i<=10:\n",
    "    print(f\"{x} X {i} = {x*i}\")\n",
    "    i+=1"
   ]
  },
  {
   "cell_type": "markdown",
   "id": "9ca59410",
   "metadata": {},
   "source": [
    "# else in while loop\n",
    " - with the help of else in loop we can print message whenever        loop exit (why do we need this else:"
   ]
  },
  {
   "cell_type": "code",
   "execution_count": 10,
   "id": "591e06ad",
   "metadata": {},
   "outputs": [
    {
     "name": "stdout",
     "output_type": "stream",
     "text": [
      "0\n",
      "1\n",
      "2\n",
      "3\n",
      "4\n",
      "Now, i is not less than 5\n"
     ]
    }
   ],
   "source": [
    "i = 0\n",
    "while i<5:\n",
    "    print(i)\n",
    "    i+=1\n",
    "else:\n",
    "    print(\"Now, i is not less than 5\")"
   ]
  },
  {
   "cell_type": "code",
   "execution_count": 14,
   "id": "85e9dbc9",
   "metadata": {},
   "outputs": [
    {
     "name": "stdout",
     "output_type": "stream",
     "text": [
      "your guess5\n",
      "You won!\n"
     ]
    }
   ],
   "source": [
    "# Guessing game using while\n",
    "secret_number = 5\n",
    "guess_count= 0\n",
    "guess_limit = 3\n",
    "while guess_count < guess_limit:\n",
    "    guess = int(input(\"your guess\"))\n",
    "    if guess == secret_number:\n",
    "        print(\"You won!\")\n",
    "        break\n",
    "    i+=1\n",
    "else:\n",
    "    print(\"limit exceeded!\")\n",
    "    "
   ]
  },
  {
   "cell_type": "code",
   "execution_count": null,
   "id": "77a64e1f",
   "metadata": {},
   "outputs": [],
   "source": []
  },
  {
   "cell_type": "markdown",
   "id": "7831cd45",
   "metadata": {},
   "source": []
  },
  {
   "cell_type": "code",
   "execution_count": null,
   "id": "a8bb79d8",
   "metadata": {},
   "outputs": [],
   "source": []
  }
 ],
 "metadata": {
  "kernelspec": {
   "display_name": "Python 3 (ipykernel)",
   "language": "python",
   "name": "python3"
  },
  "language_info": {
   "codemirror_mode": {
    "name": "ipython",
    "version": 3
   },
   "file_extension": ".py",
   "mimetype": "text/x-python",
   "name": "python",
   "nbconvert_exporter": "python",
   "pygments_lexer": "ipython3",
   "version": "3.9.13"
  }
 },
 "nbformat": 4,
 "nbformat_minor": 5
}
