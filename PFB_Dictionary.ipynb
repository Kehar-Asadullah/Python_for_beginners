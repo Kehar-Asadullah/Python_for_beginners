{
 "cells": [
  {
   "cell_type": "markdown",
   "metadata": {},
   "source": [
    "# Dictionaries\n",
    "   - Dictiories are used to store items in 'key:value' pairs.\n",
    "   - Dictionary elements are ordered, changable but donot allow duplicates.\n",
    "   - Dictionaries are specified within curly brackets having key-value pair."
   ]
  },
  {
   "cell_type": "code",
   "execution_count": 5,
   "metadata": {},
   "outputs": [
    {
     "name": "stdout",
     "output_type": "stream",
     "text": [
      "{'name': 'Ali', 'age': 25, 'City': 'Khairpur', 'country': 'Pakistan'}\n"
     ]
    }
   ],
   "source": [
    "dict1 = {\"name\" : \"Ali\",\n",
    "        \"age\" : 25,\n",
    "         \"City\" : \"Khairpur\",\n",
    "         \"country\" : \"Pakistan\"}\n",
    "\n",
    "print(dict1)"
   ]
  },
  {
   "cell_type": "code",
   "execution_count": null,
   "metadata": {},
   "outputs": [],
   "source": []
  },
  {
   "cell_type": "markdown",
   "metadata": {},
   "source": [
    "# Length of a dictionary\n",
    " - Length of dictionary refers to the number of elements: key-value pairs.\n",
    " - By using the len(), one can get the length/number of key-value pairs."
   ]
  },
  {
   "cell_type": "code",
   "execution_count": 6,
   "metadata": {},
   "outputs": [
    {
     "name": "stdout",
     "output_type": "stream",
     "text": [
      "4\n"
     ]
    }
   ],
   "source": [
    "print(len(dict1))"
   ]
  },
  {
   "cell_type": "code",
   "execution_count": null,
   "metadata": {},
   "outputs": [],
   "source": []
  },
  {
   "cell_type": "markdown",
   "metadata": {},
   "source": [
    "# Key:Value datatypes\n",
    " - In dictionary, keys* and values can be of any data-type.\n",
    " - *But in case of keys, they cannot be mutable objects (unhashable) \n",
    " - In list, we access elements by 'index' while in dictiony elements are accessed by 'key'.\n"
   ]
  },
  {
   "cell_type": "code",
   "execution_count": 8,
   "metadata": {},
   "outputs": [
    {
     "name": "stdout",
     "output_type": "stream",
     "text": [
      "{1: 'Ali', 'class': 8, (1, 0): 'None'}\n"
     ]
    }
   ],
   "source": [
    "student_info = {\n",
    "    1 : \"Ali\",\n",
    "    \"class\" : 8,\n",
    "    (1,0) : \"None\"\n",
    "}\n",
    "print(student_info)"
   ]
  },
  {
   "cell_type": "markdown",
   "metadata": {},
   "source": [
    "# Accessing elements in dictionary\n",
    "   - There is no concept of index in dictionary. it is an ordered object  \n",
    "   - But we cannot access elements by using its order-number. \n",
    "   - To access a dictionary element, we use keys, then the key-mapped       values will be accessed"
   ]
  },
  {
   "cell_type": "code",
   "execution_count": 5,
   "metadata": {},
   "outputs": [
    {
     "name": "stdout",
     "output_type": "stream",
     "text": [
      "25\n"
     ]
    }
   ],
   "source": [
    "dict1 = {\"name\" : \"Ali\",\n",
    "        \"age\" : 25,\n",
    "         \"City\" : \"Khairpur\",\n",
    "         \"country\" : \"Pakistan\"}\n",
    "#print(dict1)\n",
    "print(dict1[\"age\"]) # we can access element by key\n",
    "#print(dict1[21]) # we cannot access element by value"
   ]
  },
  {
   "cell_type": "markdown",
   "metadata": {},
   "source": [
    "# Duplicate values in Dictionary\n",
    " In case of dictionary duplicate values are allowed. But duplication of key is not allowed.\n",
    "  - if we use same key two times in a dictionary, the value against the key gets updated and the former value and the former value is discarded hence the dictionary would contain one key of that name.\n",
    "  - key is unique identifier that is used to map a specific value present against itin dictionary. key cannot be duplicated (one cannot have two different values with same key)"
   ]
  },
  {
   "cell_type": "code",
   "execution_count": 2,
   "metadata": {},
   "outputs": [
    {
     "name": "stdout",
     "output_type": "stream",
     "text": [
      "{'name': 'Ali', 'age': 40, 'City': 'Khairpur', 'country': 'Pakistan'}\n"
     ]
    }
   ],
   "source": [
    " #what happens when we add a key once more, the latest key-value retains\n",
    "dict2 = {\"name\" : \"Ali\",\n",
    "        \"age\" : 25,\n",
    "         \"City\" : \"Khairpur\",\n",
    "         \"country\" : \"Pakistan\",\n",
    "        \"age\" : 40}\n",
    "\n",
    "print(dict2)\n"
   ]
  },
  {
   "cell_type": "markdown",
   "metadata": {},
   "source": [
    "# Add elements in Dictionary:\n",
    "New elements can be added in dictionary simply by introducing a new key-value pair."
   ]
  },
  {
   "cell_type": "code",
   "execution_count": 5,
   "metadata": {},
   "outputs": [
    {
     "name": "stdout",
     "output_type": "stream",
     "text": [
      "{'name': 'Ali', 'age': 40, 'City': 'Khairpur', 'country': 'Pakistan', 'status': 'employee'}\n"
     ]
    }
   ],
   "source": [
    "dict2 = {\"name\" : \"Ali\",\n",
    "        \"age\" : 25,\n",
    "         \"City\" : \"Khairpur\",\n",
    "         \"country\" : \"Pakistan\",\n",
    "        \"age\" : 40}\n",
    "dict2[\"status\"] = \"employee\"\n",
    "print(dict2)"
   ]
  },
  {
   "cell_type": "markdown",
   "metadata": {},
   "source": [
    "# Change Value in dictionary:\n",
    "we can change a value in a dictionary by assigning new value to the key"
   ]
  },
  {
   "cell_type": "code",
   "execution_count": 8,
   "metadata": {},
   "outputs": [
    {
     "name": "stdout",
     "output_type": "stream",
     "text": [
      "{'name': 'Ali', 'age': 40, 'City': 'Khairpur', 'country': 'Pakistan', 'city': 'Khairpur'}\n",
      "{'name': 'Ali', 'age': 40, 'City': 'Khairpur', 'country': 'Pakistan', 'city': 'Khairpur', 21: 'Hello'}\n"
     ]
    }
   ],
   "source": [
    "dict2 = {\"name\" : \"Ali\",\n",
    "        \"age\" : 25,\n",
    "         \"City\" : \"Khairpur\",\n",
    "         \"country\" : \"Pakistan\",\n",
    "        \"age\" : 40\n",
    "        }\n",
    "dict2[\"city\"] = \"Khairpur\"\n",
    "print(dict2)\n",
    "dict2[21] = \"Hello\" #if key is not already available then simply added in dictionary.\n",
    "print(dict2)"
   ]
  },
  {
   "cell_type": "markdown",
   "metadata": {},
   "source": [
    "# Membership Operators:\n",
    "In dictionary, w use membership operators to check if a key is present in dictionary or not. It cannot be used to check values in dictionary."
   ]
  },
  {
   "cell_type": "code",
   "execution_count": 11,
   "metadata": {},
   "outputs": [
    {
     "name": "stdout",
     "output_type": "stream",
     "text": [
      "False\n",
      "False\n"
     ]
    }
   ],
   "source": [
    "dict2 = {\"name\" : \"Ali\",\n",
    "        \"age\" : 25,\n",
    "         \"City\" : \"Khairpur\",\n",
    "         \"country\" : \"Pakistan\"\n",
    "        }\n",
    "print(\"name\" not in dict2)\n",
    "print(\"Pakistan\" in dict2)# it will not work for values in key"
   ]
  },
  {
   "cell_type": "markdown",
   "metadata": {},
   "source": [
    "# How to Iterate through Dictionary:\n",
    "we can iterate through dictionary with the help of loops: for-loop"
   ]
  },
  {
   "cell_type": "code",
   "execution_count": 19,
   "metadata": {},
   "outputs": [
    {
     "name": "stdout",
     "output_type": "stream",
     "text": [
      "Name:Ali\n",
      "Age:25\n",
      "City:Khairpur\n",
      "Country:Pakistan\n"
     ]
    }
   ],
   "source": [
    "dict2 = {\"Name\" : \"Ali\",\n",
    "        \"Age\" : 25,\n",
    "        \"City\" : \"Khairpur\",\n",
    "        \"Country\" : \"Pakistan\"\n",
    "       }\n",
    "for i in dict2:\n",
    "     #print(i) # prints keys \n",
    "     #print(dict2[i])#prints values\n",
    "     print(f'{i}:{dict2[i]}') # it prints both key-value pair-f'string'used\n",
    "        "
   ]
  },
  {
   "cell_type": "markdown",
   "metadata": {},
   "source": [
    "# Nested Dictionary:\n",
    "It is dictionary within dictionary: \"when there is another dictionary inside dictionary:\n"
   ]
  },
  {
   "cell_type": "code",
   "execution_count": 31,
   "metadata": {},
   "outputs": [
    {
     "name": "stdout",
     "output_type": "stream",
     "text": [
      "Lecturer\n"
     ]
    }
   ],
   "source": [
    "dict2 = {\"Name\" : \"Ali\",\n",
    "        \"Age\" : 25,\n",
    "        \"City\" : \"Khairpur\",\n",
    "        \"Country\" : \"Pakistan\",\n",
    "         \"dict3\" : {\n",
    "             \"status\" : \"employed\",\n",
    "             \"Profession\": \"Lecturer\"\n",
    "         },\n",
    "        }\n",
    "#print(dict2)\n",
    "# how to print the value of profession key\"\n",
    "#print(dict2[\"Name\"]) # print value of key \"Name\"\n",
    "print(dict2[\"dict3\"][\"Profession\"])# how to print value of key \"Profession\""
   ]
  },
  {
   "cell_type": "markdown",
   "metadata": {},
   "source": [
    "# Dictionary Methods:\n",
    " - clear(): It is used to clear data from dictionary.\n",
    " - keys(): It is used to get a list of all the keys present in a dictionary.\n",
    " - values(): It is used to get a list of all the values present in a dictionary.\n",
    " - Items(): It is used to get all the elements of a dictionary.\n",
    " - get(): It is used to get the specified keys' value from dicctionary.\n",
    "    "
   ]
  },
  {
   "cell_type": "code",
   "execution_count": 39,
   "metadata": {},
   "outputs": [
    {
     "name": "stdout",
     "output_type": "stream",
     "text": [
      "Ali\n"
     ]
    }
   ],
   "source": [
    "dict2 = {\"Name\" : \"Ali\",\n",
    "        \"Age\" : 25,\n",
    "        \"City\" : \"Khairpur\",\n",
    "        \"Country\" : \"Pakistan\",\n",
    "        }\n",
    "#a = dict2.clear()\n",
    "#a = dict2.keys()\n",
    "#a = dict2.values()\n",
    "a = dict2.get('Name')\n",
    "print(a) # try keys(), values(), items(), get() \n"
   ]
  },
  {
   "cell_type": "code",
   "execution_count": null,
   "metadata": {},
   "outputs": [],
   "source": []
  },
  {
   "cell_type": "code",
   "execution_count": null,
   "metadata": {},
   "outputs": [],
   "source": []
  },
  {
   "cell_type": "code",
   "execution_count": null,
   "metadata": {},
   "outputs": [],
   "source": []
  }
 ],
 "metadata": {
  "kernelspec": {
   "display_name": "Python 3",
   "language": "python",
   "name": "python3"
  },
  "language_info": {
   "codemirror_mode": {
    "name": "ipython",
    "version": 3
   },
   "file_extension": ".py",
   "mimetype": "text/x-python",
   "name": "python",
   "nbconvert_exporter": "python",
   "pygments_lexer": "ipython3",
   "version": "3.7.3"
  }
 },
 "nbformat": 4,
 "nbformat_minor": 2
}
