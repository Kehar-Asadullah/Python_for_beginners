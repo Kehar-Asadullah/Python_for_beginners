{
 "cells": [
  {
   "cell_type": "markdown",
   "id": "33df8f66",
   "metadata": {},
   "source": [
    "# Python For Beginners\n",
    " - Python is a popular language and was released in 1991 by \"Guido van Rossum\"\n",
    "  \n",
    "  Benefits of Python:\n",
    "     - Python is easy and can do variety of tasks: \n",
    "      - web-development\n",
    "      - App development\n",
    "      - Game development\n",
    "      - Data analysis\n",
    "      \n",
    "     - Python is free\n",
    "     - Python is open source\n",
    "     - Python is portable\n",
    "     "
   ]
  },
  {
   "cell_type": "markdown",
   "id": "55374cf9",
   "metadata": {},
   "source": [
    "# Python variables\n",
    " - A named location in memory to manipulate values\n",
    " - In Python, we donot need to specify of type of variable, interpreter automatically detects data type at run-time\n",
    " - variable name must start with a letter (upper case or lower letter\n",
    " - variable name cannot start with underscore (_)\n",
    " - no space within variable name (my number: not valid)\n",
    "  - variable name cannot start with number\n",
    "  - camel case name for variable name (myVariable)\n",
    "  - snake case ( my_variable)\n",
    "  - Pascal case ( MyVarible)"
   ]
  },
  {
   "cell_type": "code",
   "execution_count": null,
   "id": "2a0fe50f",
   "metadata": {},
   "outputs": [],
   "source": [
    "x = 10\n",
    "print(x) # Why x, x is address\n",
    "#_var         not ok\n",
    "#7var         not ok\n",
    "myVar = 20 # camelcase   ok\n",
    "MyVar = 30 # Pascalcase  ok\n",
    "my_var = 40 # snake case  ok\n"
   ]
  },
  {
   "cell_type": "code",
   "execution_count": 1,
   "id": "70d67dff",
   "metadata": {},
   "outputs": [
    {
     "name": "stdout",
     "output_type": "stream",
     "text": [
      "10 20\n",
      "10 20\n"
     ]
    }
   ],
   "source": [
    "# variable assignment\n",
    "x = 10\n",
    "y = 20\n",
    "print (x, y)\n",
    "# multiple variable assignment\n",
    "p , q = 10, 20\n",
    "print (p, q)\n"
   ]
  },
  {
   "cell_type": "markdown",
   "id": "9b45e909",
   "metadata": {},
   "source": [
    "#Getting address of variable"
   ]
  },
  {
   "cell_type": "code",
   "execution_count": 2,
   "id": "ccc84542",
   "metadata": {},
   "outputs": [
    {
     "name": "stdout",
     "output_type": "stream",
     "text": [
      "1791901658000\n"
     ]
    }
   ],
   "source": [
    "x = 20\n",
    "print(id(x)) #id(): for getting address"
   ]
  },
  {
   "cell_type": "markdown",
   "id": "dcdaea9e",
   "metadata": {},
   "source": [
    "# Data types of variables"
   ]
  },
  {
   "cell_type": "code",
   "execution_count": 4,
   "id": "1c923f79",
   "metadata": {},
   "outputs": [
    {
     "name": "stdout",
     "output_type": "stream",
     "text": [
      "10.9\n",
      "str\n",
      "Ali\n",
      "10\n",
      "True\n"
     ]
    }
   ],
   "source": [
    "# integer 1, 2, 0, -4\n",
    "# float 3.14, 0.33333, 9.999\n",
    "x = 10.9\n",
    "print(x)\n",
    "\n",
    "#string \"Hello\", 'google'\n",
    "str = \"Ali\"\n",
    "print('str')\n",
    "num = '10'\n",
    "print(str)\n",
    "print(num)\n",
    "\n",
    "#boolean  True, False\n",
    "bool = True\n",
    "print(bool)"
   ]
  },
  {
   "cell_type": "code",
   "execution_count": null,
   "id": "098e30a8",
   "metadata": {},
   "outputs": [],
   "source": [
    "# Getting data type of variables"
   ]
  },
  {
   "cell_type": "code",
   "execution_count": 6,
   "id": "62bfe649",
   "metadata": {},
   "outputs": [
    {
     "name": "stdout",
     "output_type": "stream",
     "text": [
      "<class 'bool'>\n",
      "<class 'str'> 10\n"
     ]
    }
   ],
   "source": [
    "print(type(bool)) #type() for knowing type\n",
    "print(type(num), num)"
   ]
  },
  {
   "cell_type": "code",
   "execution_count": 7,
   "id": "b9e698ca",
   "metadata": {},
   "outputs": [
    {
     "name": "stdout",
     "output_type": "stream",
     "text": [
      "<class 'str'> ABC\n",
      "<class 'str'> A\n"
     ]
    }
   ],
   "source": [
    "#In python, only float data type-no double\n",
    "# In python no char type, one character\n",
    "# is also string type\n",
    "str1 = 'ABC'\n",
    "str2 = 'A'\n",
    "print (type(str1), str1)\n",
    "print (type(str2), str2)\n"
   ]
  },
  {
   "cell_type": "code",
   "execution_count": null,
   "id": "8b0d5d03",
   "metadata": {},
   "outputs": [],
   "source": [
    "# Type conversion"
   ]
  },
  {
   "cell_type": "code",
   "execution_count": 15,
   "id": "2aec3fdf",
   "metadata": {},
   "outputs": [
    {
     "name": "stdout",
     "output_type": "stream",
     "text": [
      "<class 'int'> 3\n"
     ]
    }
   ],
   "source": [
    "pi = 3.14\n",
    "a_int = int(pi)\n",
    "#a_str = str(pi)\n",
    "print(type(a_int), a_int)\n",
    "#print(type(a_str), a_str)\n"
   ]
  },
  {
   "cell_type": "code",
   "execution_count": 16,
   "id": "cce39269",
   "metadata": {},
   "outputs": [
    {
     "name": "stdout",
     "output_type": "stream",
     "text": [
      "15\n"
     ]
    }
   ],
   "source": [
    "x = 10\n",
    "x = 15\n",
    "print(x)"
   ]
  },
  {
   "cell_type": "code",
   "execution_count": 19,
   "id": "1151de94",
   "metadata": {},
   "outputs": [
    {
     "ename": "TypeError",
     "evalue": "'bool' object is not callable",
     "output_type": "error",
     "traceback": [
      "\u001b[1;31m---------------------------------------------------------------------------\u001b[0m",
      "\u001b[1;31mTypeError\u001b[0m                                 Traceback (most recent call last)",
      "\u001b[1;32m~\\AppData\\Local\\Temp\\ipykernel_2368\\943114610.py\u001b[0m in \u001b[0;36m<module>\u001b[1;34m\u001b[0m\n\u001b[0;32m      7\u001b[0m \u001b[1;31m# 0 is treated False and True otherwise\u001b[0m\u001b[1;33m\u001b[0m\u001b[1;33m\u001b[0m\u001b[0m\n\u001b[0;32m      8\u001b[0m \u001b[0ma\u001b[0m \u001b[1;33m=\u001b[0m \u001b[1;36m0\u001b[0m\u001b[1;33m\u001b[0m\u001b[1;33m\u001b[0m\u001b[0m\n\u001b[1;32m----> 9\u001b[1;33m \u001b[0mb\u001b[0m \u001b[1;33m=\u001b[0m \u001b[0mbool\u001b[0m\u001b[1;33m(\u001b[0m\u001b[0ma\u001b[0m\u001b[1;33m)\u001b[0m\u001b[1;33m\u001b[0m\u001b[1;33m\u001b[0m\u001b[0m\n\u001b[0m\u001b[0;32m     10\u001b[0m \u001b[0mprint\u001b[0m\u001b[1;33m(\u001b[0m\u001b[0mtype\u001b[0m\u001b[1;33m(\u001b[0m\u001b[0mb\u001b[0m\u001b[1;33m)\u001b[0m\u001b[1;33m,\u001b[0m \u001b[0mb\u001b[0m\u001b[1;33m)\u001b[0m\u001b[1;33m\u001b[0m\u001b[1;33m\u001b[0m\u001b[0m\n",
      "\u001b[1;31mTypeError\u001b[0m: 'bool' object is not callable"
     ]
    }
   ],
   "source": [
    "# can we convert string in int or float?\n",
    "x = \"PYTHON\"\n",
    "#y = int(x)  #error\n",
    "x = \"10\"\n",
    "z = int(x) # no-error\n",
    "#In python we can covert number in boolean\n",
    "# 0 is treated False and True otherwise\n",
    "a = 0\n",
    "b = bool(a)\n",
    "print(type(b), b)\n",
    "\n",
    "#string can also be converted in boolean\n",
    "#any string is true but empty strng is false\n"
   ]
  },
  {
   "cell_type": "markdown",
   "id": "c84a3006",
   "metadata": {},
   "source": [
    "# Operators\n",
    " Operators are used to performa opeations on values or variables:\n",
    " Python has following types of perators:\n",
    "  - Arithematic operators\n",
    "  - Assignment opearators\n",
    "  - Comparison operators\n",
    "  - Logical operators\n",
    "  - Membership operators"
   ]
  },
  {
   "cell_type": "markdown",
   "id": "fca4511f",
   "metadata": {},
   "source": [
    "# Arithematic Operators\n",
    " - Addition +\n",
    " - Subtraction -\n",
    " - Multiplication *\n",
    " - Division /\n",
    " - Modulus %\n",
    " - Exponentiation **\n",
    " - Floor division //"
   ]
  },
  {
   "cell_type": "code",
   "execution_count": 1,
   "id": "3666e774",
   "metadata": {},
   "outputs": [
    {
     "name": "stdout",
     "output_type": "stream",
     "text": [
      "Enter your name6\n",
      "6\n",
      "<class 'str'>\n"
     ]
    }
   ],
   "source": [
    "# input() fuction is used to get input \n",
    "name = input(\"Enter your name\")\n",
    "print(name)\n",
    "print(type(name))#by default input is of string"
   ]
  },
  {
   "cell_type": "code",
   "execution_count": 2,
   "id": "11f22329",
   "metadata": {},
   "outputs": [
    {
     "name": "stdout",
     "output_type": "stream",
     "text": [
      "Enter a number: 7\n",
      "15\n",
      "<class 'int'>\n"
     ]
    }
   ],
   "source": [
    "# addition\n",
    "x = int(input(\"Enter a number: \"))\n",
    "y = 8\n",
    "z = x+y\n",
    "print(z)\n",
    "print(type(z))"
   ]
  },
  {
   "cell_type": "code",
   "execution_count": 3,
   "id": "bd8b07a0",
   "metadata": {},
   "outputs": [
    {
     "name": "stdout",
     "output_type": "stream",
     "text": [
      "2.0 <class 'float'>\n"
     ]
    }
   ],
   "source": [
    "# subtraction\n",
    "x = 5\n",
    "y = 3.0\n",
    "z = x - y\n",
    "print(z, type(z))"
   ]
  },
  {
   "cell_type": "code",
   "execution_count": 4,
   "id": "fca28297",
   "metadata": {},
   "outputs": [
    {
     "name": "stdout",
     "output_type": "stream",
     "text": [
      "10.0 <class 'float'>\n"
     ]
    }
   ],
   "source": [
    "# Multiplication\n",
    "x = 2.0\n",
    "y = 5\n",
    "z = x*y\n",
    "print(z, type(z))"
   ]
  },
  {
   "cell_type": "code",
   "execution_count": 6,
   "id": "de22ca73",
   "metadata": {},
   "outputs": [
    {
     "name": "stdout",
     "output_type": "stream",
     "text": [
      "2.4 <class 'float'>\n"
     ]
    }
   ],
   "source": [
    "# Division \n",
    "x = 12\n",
    "y = 5\n",
    "z = x/y # gives result in float\n",
    "print(z, type(z))"
   ]
  },
  {
   "cell_type": "code",
   "execution_count": 7,
   "id": "efcab876",
   "metadata": {},
   "outputs": [
    {
     "name": "stdout",
     "output_type": "stream",
     "text": [
      "2 <class 'int'>\n"
     ]
    }
   ],
   "source": [
    "# floor division\n",
    "x = 12\n",
    "y = 5\n",
    "z = x//y #gives integer division\n",
    "print(z, type(z))"
   ]
  },
  {
   "cell_type": "code",
   "execution_count": 8,
   "id": "9aeb8fe3",
   "metadata": {},
   "outputs": [
    {
     "name": "stdout",
     "output_type": "stream",
     "text": [
      "25 <class 'int'>\n"
     ]
    }
   ],
   "source": [
    "# Exponentiate\n",
    "x = 5\n",
    "y = 2\n",
    "z = x**y # 5 power 2\n",
    "print(z, type(z))"
   ]
  },
  {
   "cell_type": "code",
   "execution_count": 9,
   "id": "23f9a09f",
   "metadata": {},
   "outputs": [
    {
     "name": "stdout",
     "output_type": "stream",
     "text": [
      "2 <class 'int'>\n"
     ]
    }
   ],
   "source": [
    "# Modulus Operator\n",
    "x = 12\n",
    "y = 5\n",
    "z = x % y # returns remainder after division\n",
    "print(z, type(z))"
   ]
  },
  {
   "cell_type": "markdown",
   "id": "ee714ccb",
   "metadata": {},
   "source": [
    "# Operator Precedance\n",
    " - PEMDAS\n",
    " - (Parenthesis, Exponentiation, Multiplication, Division, Addition & Subtraction)\n",
    " \n",
    " "
   ]
  },
  {
   "cell_type": "code",
   "execution_count": 12,
   "id": "69125096",
   "metadata": {},
   "outputs": [
    {
     "name": "stdout",
     "output_type": "stream",
     "text": [
      "28.5\n"
     ]
    }
   ],
   "source": [
    "print( 5 * (4 + 9) / 2 - 2 ** 2)"
   ]
  },
  {
   "cell_type": "markdown",
   "id": "0168f37b",
   "metadata": {},
   "source": [
    "# Comment\n",
    " - single line comment\n",
    " - multi-line comment"
   ]
  },
  {
   "cell_type": "code",
   "execution_count": 15,
   "id": "adc95ea4",
   "metadata": {},
   "outputs": [
    {
     "data": {
      "text/plain": [
       "'I\\n  am\\n  multi\\n  line\\n  \\n  \\n  comment'"
      ]
     },
     "execution_count": 15,
     "metadata": {},
     "output_type": "execute_result"
    }
   ],
   "source": [
    "# print(\"I am single line comment\")\n",
    "\n",
    "'''I\n",
    "  am\n",
    "  multi\n",
    "  line\n",
    "  \n",
    "  \n",
    "  comment'''\n",
    "\n"
   ]
  },
  {
   "cell_type": "code",
   "execution_count": 16,
   "id": "9a2e5cf0",
   "metadata": {},
   "outputs": [
    {
     "name": "stdout",
     "output_type": "stream",
     "text": [
      "I \n",
      "am \n",
      "multi\n",
      "line\n",
      "  \n",
      "  \n",
      "comment\n"
     ]
    }
   ],
   "source": [
    "# multi_line comment...we can use it as multi_line string too\n",
    "\n",
    "multi_line = \"\"\"I \n",
    "am \n",
    "multi\n",
    "line\n",
    "  \n",
    "  \n",
    "comment\"\"\"\n",
    "\n",
    "print(multi_line)\n"
   ]
  },
  {
   "cell_type": "markdown",
   "id": "f4e764c9",
   "metadata": {},
   "source": [
    "# Assignment Operators\n",
    " - Assignment operator is used to get right side value into left side container (variable)\n",
    " - Assignment operator is right associative\n",
    " \n",
    " - Arithematic assignment operator:\n",
    "  short-cut form\n",
    "  a = a + 1 is equivalent to a += 1"
   ]
  },
  {
   "cell_type": "code",
   "execution_count": 2,
   "id": "3458a9ad",
   "metadata": {},
   "outputs": [
    {
     "name": "stdout",
     "output_type": "stream",
     "text": [
      "5\n",
      "1\n"
     ]
    }
   ],
   "source": [
    "x = 5\n",
    "#x += 5   # x = x + 5\n",
    "print(x)\n",
    "\n",
    "x //= 5 # floor division\n",
    "print(x)"
   ]
  },
  {
   "cell_type": "markdown",
   "id": "9ef2fb6b",
   "metadata": {},
   "source": [
    "# Comparison Operators:\n",
    " These opeators are used to compare two values and gives result in boolean (T/F)\n",
    " - less than (<) or less than equal to (<=)\n",
    " - greater than (>) or greater than equal to (>=)\n",
    " - equal to (==) or not equal to (!=)\n",
    " a = 8\n",
    " b = 10\n",
    " print( a>b)"
   ]
  },
  {
   "cell_type": "markdown",
   "id": "c709624b",
   "metadata": {},
   "source": [
    "# Logical Operators\n",
    "\n",
    " - Logical operator (or boolean operators) are used to combine conditional statements.\n",
    " - There are three logical operators in Python:\n",
    "     - and : return True when both operands are True\n",
    "     - or : return True if either operator is True\n",
    "     - not :returns true if the underlying operand is false or vice versa."
   ]
  },
  {
   "cell_type": "code",
   "execution_count": 3,
   "id": "2d88bde6",
   "metadata": {},
   "outputs": [
    {
     "name": "stdout",
     "output_type": "stream",
     "text": [
      "T and T =  True\n",
      "T and F =  False\n",
      "T or F =  True\n",
      "F or T = True\n",
      "not T =  False\n",
      "not F =  True\n"
     ]
    }
   ],
   "source": [
    "T = True\n",
    "F = False\n",
    " \n",
    "print(\"T and T = \", T and T)\n",
    "print(\"T and F = \", T and F)\n",
    "print(\"T or F = \", T or F)\n",
    "print(\"F or T =\", F or T)\n",
    "print(\"not T = \", not T)\n",
    "print(\"not F = \", not F)\n",
    "\n",
    "\n"
   ]
  },
  {
   "cell_type": "markdown",
   "id": "3eacfb3f",
   "metadata": {},
   "source": [
    "# Membership Operators:\n",
    " This operator is used to see if the object is present in particular sequence.\n",
    " - in returns True, if object is present in sequence.\n",
    " - not in returns True, if object is not present in sequence.\n",
    " \n",
    " "
   ]
  },
  {
   "cell_type": "code",
   "execution_count": 7,
   "id": "7865a4ac",
   "metadata": {},
   "outputs": [
    {
     "name": "stdout",
     "output_type": "stream",
     "text": [
      "True\n",
      "False\n"
     ]
    }
   ],
   "source": [
    "str = \"that the quick brown fox jumps slowly over the lazy dog\"\n",
    "print(\"the\" in str) # True\n",
    "print(\"they\" in str) # False"
   ]
  },
  {
   "cell_type": "markdown",
   "id": "ef0844dc",
   "metadata": {},
   "source": [
    "# Membership Operators:\n",
    " - Membership opeators are used to see if a sequence is available in an object.\n",
    " - 'in' returns True, if the sequence is present in an object\n",
    " - 'not in'return True, if the sequence is not present in the object.\n",
    " "
   ]
  },
  {
   "cell_type": "code",
   "execution_count": 3,
   "id": "53b0d922",
   "metadata": {},
   "outputs": [
    {
     "name": "stdout",
     "output_type": "stream",
     "text": [
      "False\n",
      "True\n",
      "True\n",
      "False\n",
      "True\n"
     ]
    }
   ],
   "source": [
    "my_str = 'Time and tide waits for none!'\n",
    "print('time' in my_str)\n",
    "print('Time' in my_str)\n",
    "\n",
    "my_list = ['grapes', True, 3.14, 37, 'c']\n",
    "print(True in my_list)\n",
    "print(3.1415 in my_list)\n",
    "print(3.1419 not in my_list)"
   ]
  },
  {
   "cell_type": "markdown",
   "id": "23961eb2",
   "metadata": {},
   "source": [
    "# Identity Operators:\n",
    " - This operator is used to see if the object is same, i.e., if the address of the object is same.\n",
    "      - is returns True if the both variable have same memory loccation.\n",
    "      - is not return True if the both object are not the same object."
   ]
  },
  {
   "cell_type": "code",
   "execution_count": 8,
   "id": "0cbc606f",
   "metadata": {},
   "outputs": [
    {
     "name": "stdout",
     "output_type": "stream",
     "text": [
      "False\n",
      "True\n",
      "True\n",
      "2606479272528\n",
      "2606520004464\n",
      "2606479272528\n",
      "2606479272528\n"
     ]
    }
   ],
   "source": [
    "a =10\n",
    "b = \"10\"\n",
    "c = 10\n",
    "\n",
    "print(a is b)\n",
    "print(a is int(b))\n",
    "print(c is a)\n",
    "\n",
    "print(id(a))\n",
    "print(id(b))\n",
    "print(id(int(b)))\n",
    "print(id(c))\n"
   ]
  },
  {
   "cell_type": "markdown",
   "id": "e33df7c0",
   "metadata": {},
   "source": [
    "# Python Strings\n",
    " - In Python strings are enclosed by either single quotes (' ') or double quotes. (\" \").\n",
    " - Strig literal or string can be displayed on screen with the help of print() function."
   ]
  },
  {
   "cell_type": "code",
   "execution_count": 2,
   "id": "7471057d",
   "metadata": {},
   "outputs": [
    {
     "name": "stdout",
     "output_type": "stream",
     "text": [
      "Hello <class 'str'>\n",
      "Welcome <class 'str'>\n"
     ]
    }
   ],
   "source": [
    " s1 = \"Hello\"\n",
    " s2 = 'Welcome'   \n",
    "print(s1, type(s1))\n",
    "print(s2, type(s2))"
   ]
  },
  {
   "cell_type": "markdown",
   "id": "b10e7ce5",
   "metadata": {},
   "source": [
    " # Multiline String\n",
    "  - Multiline string are eclosed by triple single quotes or double quotes and can be assigned to a string variable. \n",
    "  - The line breaks are also inserted at the same positions as we did while creating strings."
   ]
  },
  {
   "cell_type": "code",
   "execution_count": 3,
   "id": "2d7a618f",
   "metadata": {},
   "outputs": [
    {
     "name": "stdout",
     "output_type": "stream",
     "text": [
      "that\n",
      "the quick\n",
      "brown fox\n",
      "jumps slowly\n",
      "over the \n",
      "lazy dog\n",
      "<class 'str'>\n"
     ]
    }
   ],
   "source": [
    "multi_s = '''that\n",
    "the quick\n",
    "brown fox\n",
    "jumps slowly\n",
    "over the \n",
    "lazy dog'''\n",
    "\n",
    "print(multi_s)\n",
    "print(type(multi_s))\n",
    "\n"
   ]
  },
  {
   "cell_type": "markdown",
   "id": "fd1431b8",
   "metadata": {},
   "source": [
    "# String Concatenation\n",
    "    The string concatenation means joining two or more substrings and we can use + opeartor for string concatenation"
   ]
  },
  {
   "cell_type": "code",
   "execution_count": 5,
   "id": "15aed1b9",
   "metadata": {},
   "outputs": [
    {
     "name": "stdout",
     "output_type": "stream",
     "text": [
      "WelCome\n",
      "Wel Come\n"
     ]
    }
   ],
   "source": [
    "s1 = 'Wel'\n",
    "s2 = \"Come\"\n",
    "s3 = s1 + s2\n",
    "print(s3)\n",
    "s4 = s1+ \" \" + s2\n",
    "print(s4)\n"
   ]
  },
  {
   "cell_type": "markdown",
   "id": "bbe671c0",
   "metadata": {},
   "source": [
    "# Strings are Arrays:\n",
    " - In Python, there is not any character data type even single character is treated as string data type.\n",
    " - String is treated as array of characers, we can access each character with the help of index.\n",
    " - square bracket are used to access the elements/characters of arrays."
   ]
  },
  {
   "cell_type": "code",
   "execution_count": 9,
   "id": "c991d8b0",
   "metadata": {},
   "outputs": [
    {
     "name": "stdout",
     "output_type": "stream",
     "text": [
      "String\n",
      "2735869556784\n",
      "r\n"
     ]
    }
   ],
   "source": [
    "x = \"String\"\n",
    "print(x)\n",
    "print(id(x))\n",
    "print(x[2])"
   ]
  },
  {
   "cell_type": "code",
   "execution_count": 10,
   "id": "0abe82a2",
   "metadata": {},
   "outputs": [
    {
     "name": "stdout",
     "output_type": "stream",
     "text": [
      "t\n",
      "r 2735860621104\n"
     ]
    }
   ],
   "source": [
    "# we can use -ve indexing too in strings\n",
    "msg = \"Government\"\n",
    "print(msg[-1])\n",
    "# checking id of particular index\n",
    "print(msg[4], id(msg[4]))"
   ]
  },
  {
   "cell_type": "code",
   "execution_count": 13,
   "id": "bc80c0c5",
   "metadata": {},
   "outputs": [
    {
     "name": "stdout",
     "output_type": "stream",
     "text": [
      "Province Province Province Province Province \n"
     ]
    }
   ],
   "source": [
    "#using * operatr for printing string multiple times\n",
    "str = \"Province \"\n",
    "print(str*5)"
   ]
  },
  {
   "cell_type": "markdown",
   "id": "f197d7b7",
   "metadata": {},
   "source": [
    "# String Length\n",
    " - len() function is used to get the length (number of character) of string"
   ]
  },
  {
   "cell_type": "code",
   "execution_count": 15,
   "id": "5952f6ef",
   "metadata": {},
   "outputs": [
    {
     "name": "stdout",
     "output_type": "stream",
     "text": [
      "15\n"
     ]
    }
   ],
   "source": [
    "country = \"I love Pakistan\"\n",
    "print(len(country))"
   ]
  },
  {
   "cell_type": "markdown",
   "id": "8d1cc213",
   "metadata": {},
   "source": [
    "# String Index:\n",
    " - index() function is used to get index value of particular substring in a string."
   ]
  },
  {
   "cell_type": "code",
   "execution_count": 20,
   "id": "dfd7458c",
   "metadata": {},
   "outputs": [
    {
     "name": "stdout",
     "output_type": "stream",
     "text": [
      "2\n"
     ]
    }
   ],
   "source": [
    "msg = \"I love Pakistan\"\n",
    "print(msg.index('love'))\n",
    "# What if substring is not present in string\n",
    "#print(msg.index('loving')) #Error"
   ]
  },
  {
   "cell_type": "markdown",
   "id": "786e65bd",
   "metadata": {},
   "source": [
    "# Looping Through String:\n",
    " - since string is also sequence type, therefore we can iterate through string item by item"
   ]
  },
  {
   "cell_type": "code",
   "execution_count": 18,
   "id": "50ce2daf",
   "metadata": {},
   "outputs": [
    {
     "name": "stdout",
     "output_type": "stream",
     "text": [
      "H\n",
      "e\n",
      "l\n",
      "l\n",
      "o\n"
     ]
    }
   ],
   "source": [
    "msg = \"Hello\"\n",
    "for i in msg:\n",
    "    print(i)\n",
    "    "
   ]
  },
  {
   "cell_type": "markdown",
   "id": "f3d4cb0a",
   "metadata": {},
   "source": [
    "# Membership Operators in String\n",
    " - This operator is used to check if the substring is available in string. return True or False\n",
    " in return True if the substring is present in string.\n",
    " not in return True if the substring is not available in string.\n",
    " "
   ]
  },
  {
   "cell_type": "code",
   "execution_count": 22,
   "id": "1483f858",
   "metadata": {},
   "outputs": [
    {
     "name": "stdout",
     "output_type": "stream",
     "text": [
      "True\n",
      "False\n",
      "True\n"
     ]
    }
   ],
   "source": [
    "msg = \"Hello\"\n",
    "print(\"Hell\" in msg)\n",
    "print(\"Heel\" in msg)\n",
    "print(\"Heel\" not in msg)"
   ]
  },
  {
   "cell_type": "markdown",
   "id": "71f73138",
   "metadata": {},
   "source": [
    "# Slicing:\n",
    " - With the help of slicing we can cut-down and return the rang of characters.\n",
    " - syntax: string[start:end:step]"
   ]
  },
  {
   "cell_type": "code",
   "execution_count": 1,
   "id": "177f6983",
   "metadata": {},
   "outputs": [
    {
     "name": "stdout",
     "output_type": "stream",
     "text": [
      "Bonjour\n",
      "nor\n"
     ]
    }
   ],
   "source": [
    "x = \"Bonjour\"\n",
    "print(x[:])\n",
    "print(x[2::2])"
   ]
  },
  {
   "cell_type": "code",
   "execution_count": 3,
   "id": "fdcbc175",
   "metadata": {},
   "outputs": [
    {
     "name": "stdout",
     "output_type": "stream",
     "text": [
      "lo Wo\n",
      "lo World\n",
      "Hello Wo\n",
      "HloWrd\n",
      "Hello World\n",
      "Hello World\n"
     ]
    }
   ],
   "source": [
    "y = \"Hello World\"\n",
    "print(y[3:8])\n",
    "print(y[3::])\n",
    "print(y[:8])\n",
    "print(y[::2])\n",
    "print(y[::])\n",
    "print(y)"
   ]
  },
  {
   "cell_type": "code",
   "execution_count": 1,
   "id": "b5c16451",
   "metadata": {},
   "outputs": [
    {
     "name": "stdout",
     "output_type": "stream",
     "text": [
      "yth\n",
      "\n",
      "oht\n",
      "nohtyP ni gnimmargorP\n"
     ]
    }
   ],
   "source": [
    "# Negative indexing\n",
    "x = \"Programming in Python\"\n",
    "print(x[-5:-2])\n",
    "print(x[-2:-5]) #nothing will happen\n",
    "print(x[-2:-5:-1])\n",
    "print(x[::-1])# prints string in reverse order"
   ]
  },
  {
   "cell_type": "markdown",
   "id": "6e5d0b2f",
   "metadata": {},
   "source": [
    "# String Methods:\n",
    " - upper()\n",
    " - lower()\n",
    " - capitalize()\n",
    " - sorted(): it is used to sort the string alphabetically\n",
    " - join"
   ]
  },
  {
   "cell_type": "code",
   "execution_count": 11,
   "id": "beb3ab2e",
   "metadata": {},
   "outputs": [
    {
     "name": "stdout",
     "output_type": "stream",
     "text": [
      "THINK BEFORE YOUR LEAP\n",
      "think before your leap\n",
      "Think before your leap\n",
      "[' ', ' ', ' ', 'T', 'a', 'b', 'e', 'e', 'e', 'f', 'h', 'i', 'k', 'l', 'n', 'o', 'o', 'p', 'r', 'r', 'u', 'y']\n",
      "   Tabeeefhiklnooprruy\n"
     ]
    }
   ],
   "source": [
    " x = \"Think before your leap\"\n",
    " \n",
    "print(x.upper())\n",
    "print(x.lower())\n",
    "print(x.capitalize())\n",
    "y = sorted(x)\n",
    "print(y)\n",
    "z = \"\".join(y)#joins array of characters together\n",
    "print(z)\n"
   ]
  },
  {
   "cell_type": "markdown",
   "id": "52f117fb",
   "metadata": {},
   "source": [
    "count()\n",
    " - The count() method is used to count the occurance of a character or substring in a string.\n",
    "\n",
    "endswith()\n",
    " - endswith() method checks if the string ends with a particular character.\n",
    " \n",
    "startswith()\n",
    " - startswith() method checks if a string starts with a particular character.\n",
    "\n",
    "find()\n",
    " - find() method finds the position of a particular character in string and returns its index. if charcter is not present in string it will return -1.\n",
    "\n",
    " "
   ]
  },
  {
   "cell_type": "code",
   "execution_count": 5,
   "id": "12d04872",
   "metadata": {},
   "outputs": [
    {
     "name": "stdout",
     "output_type": "stream",
     "text": [
      "2\n",
      "True\n",
      "True\n",
      "-1\n"
     ]
    }
   ],
   "source": [
    "name = \"Rumplestiltskin\"\n",
    "c = name.count('l')\n",
    "print(c)\n",
    "end = name.endswith('n')\n",
    "print(end)\n",
    "start = name.startswith('R')\n",
    "print(start)\n",
    "fnd = name.find('x') #returns-1 if char is not present\n",
    "print(fnd)"
   ]
  },
  {
   "cell_type": "markdown",
   "id": "37b7276e",
   "metadata": {},
   "source": [
    "# Escape Character:\n",
    " - To insert characterrs that are illegal in a string, use an escape character. an escape character is followed by a back-slash ( \\ )"
   ]
  },
  {
   "cell_type": "markdown",
   "id": "9e0447a5",
   "metadata": {},
   "source": []
  },
  {
   "cell_type": "markdown",
   "id": "9d541c52",
   "metadata": {},
   "source": [
    "# Strings:\n",
    " - In Python, string data types are immutable meaning that its value cannot be updated after it is created."
   ]
  },
  {
   "cell_type": "code",
   "execution_count": 1,
   "id": "b082a7b6",
   "metadata": {},
   "outputs": [
    {
     "ename": "SyntaxError",
     "evalue": "EOL while scanning string literal (795663311.py, line 2)",
     "output_type": "error",
     "traceback": [
      "\u001b[1;36m  File \u001b[1;32m\"C:\\Users\\ashiq\\AppData\\Local\\Temp\\ipykernel_5100\\795663311.py\"\u001b[1;36m, line \u001b[1;32m2\u001b[0m\n\u001b[1;33m    str[0] = 'A\u001b[0m\n\u001b[1;37m               ^\u001b[0m\n\u001b[1;31mSyntaxError\u001b[0m\u001b[1;31m:\u001b[0m EOL while scanning string literal\n"
     ]
    }
   ],
   "source": [
    "str = \"This is the string\"\n",
    "#str[0] = 'A #Error we cannot change the immutable string.\n",
    "print(str)'"
   ]
  },
  {
   "cell_type": "markdown",
   "id": "9557e734",
   "metadata": {},
   "source": [
    "# List\n",
    " - List are used to stroe multiple items in single variable\n",
    " - The items in list are ordered, changeable and cann be duplicate.\n",
    " - List can have different types of data items."
   ]
  },
  {
   "cell_type": "code",
   "execution_count": 2,
   "id": "32d64f61",
   "metadata": {},
   "outputs": [
    {
     "name": "stdout",
     "output_type": "stream",
     "text": [
      "['time', 'xyz', 10, 3.14, 'a', True, ' ']\n",
      "<class 'list'>\n"
     ]
    }
   ],
   "source": [
    "my_list = ['time', \"xyz\", 10, 3.14, 'a', True, \" \"]\n",
    "print(my_list)\n",
    "print(type(my_list))"
   ]
  },
  {
   "cell_type": "markdown",
   "id": "32bf609d",
   "metadata": {},
   "source": [
    "# Length of List\n",
    " - len() function is used to determine length of list."
   ]
  },
  {
   "cell_type": "code",
   "execution_count": 3,
   "id": "34a63e61",
   "metadata": {},
   "outputs": [
    {
     "name": "stdout",
     "output_type": "stream",
     "text": [
      "7\n"
     ]
    }
   ],
   "source": [
    "my_list = ['time', \"xyz\", 10, 3.14, 'a', True, \" \"]\n",
    "print(len(my_list))"
   ]
  },
  {
   "cell_type": "markdown",
   "id": "3f500890",
   "metadata": {},
   "source": [
    "# Accessing items in List:\n",
    " - The items in list are accessed by its index number.\n",
    " - we can also use -ve indexing for accessing items of list.\n",
    " - we can also specify range of items by specifying start and end index. The result will be a sub-list.\n",
    " - we can use -ve index, if we want to start searching list from end.\n"
   ]
  },
  {
   "cell_type": "code",
   "execution_count": 8,
   "id": "430ae7aa",
   "metadata": {},
   "outputs": [
    {
     "name": "stdout",
     "output_type": "stream",
     "text": [
      "3.14\n",
      "True\n",
      "['time']\n",
      "[True, 'a']\n"
     ]
    }
   ],
   "source": [
    "my_list = ['time', \"xyz\", 10, 3.14, 'a', True, \" \"]\n",
    "print(my_list[3])\n",
    "#using -ve index\n",
    "print(my_list[-2])\n",
    "#range of items\n",
    "print(my_list[0::-1])\n",
    "#rnage of -ve items\n",
    "print(my_list[-2:-4:-1])"
   ]
  },
  {
   "cell_type": "markdown",
   "id": "beca4c54",
   "metadata": {},
   "source": [
    "# Membership Operators in List\n",
    " - To check if the specified item is present in list or not (in and not in)"
   ]
  },
  {
   "cell_type": "code",
   "execution_count": 9,
   "id": "b6dd9e27",
   "metadata": {},
   "outputs": [
    {
     "name": "stdout",
     "output_type": "stream",
     "text": [
      "False\n",
      "True\n"
     ]
    }
   ],
   "source": [
    "my_list = ['time', \"xyz\", 10, 3.14, 'a', True, \" \"]\n",
    "print(15 in my_list)\n",
    "print(15 not in my_list)"
   ]
  },
  {
   "cell_type": "markdown",
   "id": "2a5107bd",
   "metadata": {},
   "source": [
    "# Change List item\n"
   ]
  },
  {
   "cell_type": "code",
   "execution_count": 11,
   "id": "4469c1e9",
   "metadata": {},
   "outputs": [
    {
     "name": "stdout",
     "output_type": "stream",
     "text": [
      "['time', 'xyz', 10, 3.14, 'a', False, ' ']\n",
      "['time', 'xyz', 'Number to characters', 'a', False, ' ']\n"
     ]
    }
   ],
   "source": [
    "my_list = ['time', \"xyz\", 10, 3.14, 'a', True, \" \"]\n",
    "my_list[5]=False\n",
    "print(my_list)\n",
    "my_list[2:4]  = [\"Number to characters\"]\n",
    "print(my_list)"
   ]
  },
  {
   "cell_type": "markdown",
   "id": "5aa6f124",
   "metadata": {},
   "source": [
    "# Add items in List:\n",
    " - following methods to add items in list:\n",
    "    - append() method\n",
    "    - insert() method\n",
    "    - extend method"
   ]
  },
  {
   "cell_type": "code",
   "execution_count": 15,
   "id": "dbf424ff",
   "metadata": {},
   "outputs": [
    {
     "name": "stdout",
     "output_type": "stream",
     "text": [
      "['time', 'xyz', 10, 3.14, 'a', True, ' ', 'end']\n",
      "['time', 'xyz', 10, 'between', 'a', True, ' ', 'end']\n",
      "['time', 'xyz', 10, 'between', 'a', True, ' ', 'end', 'my', 'sub', 'list']\n"
     ]
    }
   ],
   "source": [
    "my_list = ['time', \"xyz\", 10, 3.14, 'a', True, \" \"]\n",
    "# to add at the end of list, use append()\n",
    "my_list.append(\"end\")\n",
    "print(my_list)\n",
    "#to insert item at particular index\n",
    "#my_list[3]= 'between'\n",
    "my_list(3, \"between\")\n",
    "print(my_list)\n",
    "# extend the list with another sublist\n",
    "sub_list = ['my', 'sub', \"list\"]\n",
    "my_list.extend(sub_list)\n",
    "print(my_list)\n"
   ]
  },
  {
   "cell_type": "markdown",
   "id": "df4c0b51",
   "metadata": {},
   "source": [
    "# Remove items from List\n",
    " - we can remove items from list\n",
    " - remove() method : takes the item-name to be removed.\n",
    " - pop() method : takes item index to be removed.\n",
    " - del() method : deletes list from memory\n",
    " - clear () method : clears list and list becomes empty []. clear () does not take any argument."
   ]
  },
  {
   "cell_type": "code",
   "execution_count": 6,
   "id": "d9453e24",
   "metadata": {},
   "outputs": [
    {
     "name": "stdout",
     "output_type": "stream",
     "text": [
      "['summer', 'Spring', 'Autumn']\n",
      "['summer', 'Spring']\n",
      "[]\n"
     ]
    }
   ],
   "source": [
    "a_list = [ \"summer\", \"Winter\", \"Spring\", \"Autumn\"]\n",
    "a_list.remove(\"Winter\") # takes the item to be removed\n",
    "print(a_list)\n",
    "a_list.pop(2) #item number to removed\n",
    "print(a_list)\n",
    "a_list.clear()# note parameter in clear\n",
    "print(a_list)\n",
    "del a_list # deletes list from memory\n",
    "#print(a_list) #error b/c a_list does not exist"
   ]
  },
  {
   "cell_type": "markdown",
   "id": "734722ff",
   "metadata": {},
   "source": [
    "# sort List:\n",
    " - sort() methods sorts the list alphabetically in ascending order.\n",
    " - For sorting in descending order, use key word 'reverse = True'\n",
    " - By default sort() method is case-sensitive, resulting all capital letters sorted before lower case letters. if one need to have canse-insensitve sort then str.lower key function to be used.\n",
    " "
   ]
  },
  {
   "cell_type": "code",
   "execution_count": 10,
   "id": "31b2031f",
   "metadata": {},
   "outputs": [
    {
     "name": "stdout",
     "output_type": "stream",
     "text": [
      "['Autumn', 'Spring', 'Winter', 'summer']\n",
      "['summer', 'Winter', 'Spring', 'Autumn']\n",
      "['Autumn', 'Spring', 'summer', 'Winter']\n"
     ]
    }
   ],
   "source": [
    "a_list = [ \"summer\", \"Winter\", \"Spring\", \"Autumn\"]\n",
    "b_list = [ \"summer\", \"Winter\", \"Spring\", \"Autumn\"]\n",
    "a_list.sort()\n",
    "print(a_list)\n",
    "a_list.sort(reverse=True)\n",
    "print(a_list)\n",
    "b_list.sort(key=str.upper) #case insensitve sorting\n",
    "print(b_list)"
   ]
  },
  {
   "cell_type": "markdown",
   "id": "fc449180",
   "metadata": {},
   "source": [
    "# Copy List\n",
    "- one can copy a list by simply writing list2 = list1, in this way only reference is copied hence when we make a change in list2 the same change is also made in list1.\n",
    "- To make an other copy of a list a built-in method copy() is used. another buit-in method list() is used for making copy as well."
   ]
  },
  {
   "cell_type": "code",
   "execution_count": 13,
   "id": "b0c0b04f",
   "metadata": {},
   "outputs": [
    {
     "name": "stdout",
     "output_type": "stream",
     "text": [
      "['summer', 'Winter', 'Spring', 'Autumn']\n",
      "['summer', 'Winter', 'Spring', 'Autumn']\n"
     ]
    }
   ],
   "source": [
    "a_list = [ \"summer\", \"Winter\", \"Spring\", \"Autumn\"]\n",
    "c_list = a_list.copy()\n",
    "print(c_list)\n",
    "d_list = list(a_list)\n",
    "print(d_list)"
   ]
  },
  {
   "cell_type": "code",
   "execution_count": 2,
   "id": "1e139d07",
   "metadata": {},
   "outputs": [
    {
     "name": "stdout",
     "output_type": "stream",
     "text": [
      "['Summer', 'Winter', 'Spring', 'Autumn', 'Hot', 'Cold', 'Green', 'Bare']\n"
     ]
    }
   ],
   "source": [
    "list4=[\"Summer\", \"Winter\", \"Spring\", \"Autumn\"]\n",
    "list5 = ['Hot', 'Cold', 'Green', 'Bare']\n",
    "print(list4 + list5)"
   ]
  },
  {
   "cell_type": "markdown",
   "id": "87a6aab0",
   "metadata": {},
   "source": [
    "# Tuple\n",
    " - Tuples are used to store multiple items in a single variable.\n",
    " - A tuple is a collection which is ordered and unchangable.\n",
    " - Tuple are written with round brackets.\n",
    "    "
   ]
  },
  {
   "cell_type": "markdown",
   "id": "da0b88db",
   "metadata": {},
   "source": [
    "# Unpacking a Tuple\n",
    " - when we assign values to a tuple, it is packing the tuple.\n",
    " - we can also unpack the tuple and assign these values to different variables.\n",
    " "
   ]
  },
  {
   "cell_type": "code",
   "execution_count": 3,
   "id": "d568483b",
   "metadata": {},
   "outputs": [
    {
     "name": "stdout",
     "output_type": "stream",
     "text": [
      "Karachi\n",
      "Islamabad\n",
      "5\n",
      "3.14\n"
     ]
    }
   ],
   "source": [
    "T = (\"Karachi\", \"Islamabad\", 5, 3.14)\n",
    "a, b, c, d = T\n",
    "print(a)\n",
    "print(b)\n",
    "print(c)\n",
    "print(d)\n"
   ]
  },
  {
   "cell_type": "code",
   "execution_count": 4,
   "id": "1d945588",
   "metadata": {},
   "outputs": [
    {
     "name": "stdout",
     "output_type": "stream",
     "text": [
      "Karachi\n",
      "Islamabad\n",
      "[5, 3.14]\n"
     ]
    }
   ],
   "source": [
    "T = (\"Karachi\", \"Islamabad\", 5, 3.14)\n",
    "a, b, *c = T\n",
    "print(a)\n",
    "print(b)\n",
    "print(c)"
   ]
  },
  {
   "cell_type": "code",
   "execution_count": null,
   "id": "089f7030",
   "metadata": {},
   "outputs": [],
   "source": []
  }
 ],
 "metadata": {
  "kernelspec": {
   "display_name": "Python 3 (ipykernel)",
   "language": "python",
   "name": "python3"
  },
  "language_info": {
   "codemirror_mode": {
    "name": "ipython",
    "version": 3
   },
   "file_extension": ".py",
   "mimetype": "text/x-python",
   "name": "python",
   "nbconvert_exporter": "python",
   "pygments_lexer": "ipython3",
   "version": "3.9.13"
  }
 },
 "nbformat": 4,
 "nbformat_minor": 5
}
